{
 "cells": [
  {
   "cell_type": "markdown",
   "metadata": {},
   "source": [
    "# Functions"
   ]
  },
  {
   "cell_type": "markdown",
   "metadata": {},
   "source": [
    "On this lab we will put to practice some of the concepts we have learned on this past few days.\n",
    "\n",
    "`NOTE: On this lab you should try to write all the functions yourself using only the most basic of python syntax and without functions such as len, count, sum, max, min, in, etc. Give it a try. 🧑🏻‍💻👩🏻‍💻`\n",
    "\n",
    "The cell after each exercise contains a few tests to check if your function works as expected."
   ]
  },
  {
   "cell_type": "code",
   "execution_count": null,
   "metadata": {},
   "outputs": [],
   "source": [
    "from mod.testing import *\n",
    "import unittest"
   ]
  },
  {
   "cell_type": "markdown",
   "metadata": {},
   "source": [
    "## 1. Write a function that returns the greater of two numbers"
   ]
  },
  {
   "cell_type": "code",
   "execution_count": 4,
   "metadata": {},
   "outputs": [
    {
     "data": {
      "text/plain": [
       "6"
      ]
     },
     "execution_count": 4,
     "metadata": {},
     "output_type": "execute_result"
    }
   ],
   "source": [
    "def greater(a,b):\n",
    "#your code here\n",
    "\n",
    "    if a > b:\n",
    "        return a\n",
    "    else:\n",
    "        return b\n",
    "\n",
    "greater(5,6)\n"
   ]
  },
  {
   "cell_type": "code",
   "execution_count": null,
   "metadata": {},
   "outputs": [],
   "source": [
    "# This will test your function \n",
    "test_greater(greater)"
   ]
  },
  {
   "cell_type": "code",
   "execution_count": 10,
   "metadata": {},
   "outputs": [],
   "source": [
    "#your code here\n",
    "def test_greater():\n",
    "\n",
    "    assert greater(10,8) == 10, \"test ok\"\n",
    "    assert greater(8,10) == 10, \"nok\"\n",
    "    assert greater(10,20) == 10, \"nok\"\n",
    "    \n",
    "    print()"
   ]
  },
  {
   "cell_type": "code",
   "execution_count": 11,
   "metadata": {},
   "outputs": [
    {
     "data": {
      "text/plain": [
       "2"
      ]
     },
     "execution_count": 11,
     "metadata": {},
     "output_type": "execute_result"
    }
   ],
   "source": []
  },
  {
   "cell_type": "markdown",
   "metadata": {},
   "source": [
    "## 2. Now write a function that returns the largest element on a list"
   ]
  },
  {
   "cell_type": "code",
   "execution_count": 12,
   "metadata": {},
   "outputs": [
    {
     "name": "stdout",
     "output_type": "stream",
     "text": [
      "50\n",
      "-5\n"
     ]
    }
   ],
   "source": [
    "#your code here\n",
    "\n",
    "def find_largest_element(lst):\n",
    "    \n",
    "    if not lst:\n",
    "        raise ValueError(\"The list is empty\")\n",
    "    \n",
    "    largest = lst[0]\n",
    "    for num in lst:\n",
    "        if num > largest:\n",
    "            largest = num\n",
    "    \n",
    "    return largest\n",
    "\n",
    "print(find_largest_element([10, 20, 30, 40, 50]))  # Output: 50\n",
    "print(find_largest_element([-10, -20, -5, -30]))  # Output: -5\n"
   ]
  },
  {
   "cell_type": "code",
   "execution_count": 22,
   "metadata": {},
   "outputs": [],
   "source": [
    "def find_largest_element(lst):\n",
    "    \n",
    "    if not lst:\n",
    "        raise ValueError(\"The list is empty\")\n",
    "    \n",
    "    largest = lst[0]\n",
    "    for num in lst:\n",
    "        if num > largest:\n",
    "            largest = num\n",
    "    \n",
    "    return largest\n",
    "\n",
    "#test... why doesn't it work?! \n",
    "\n",
    "def test_find_largest_element():\n",
    "    \"\"\"\n",
    "    Test cases for the find_largest_element function.\n",
    "    \"\"\"\n",
    "    assert find_largest_element([10, 20, 30, 40, 50]) == 50, \"Test case 1 failed\"\n",
    "    assert find_largest_element([-10, -20, -5, -30]) == -5, \"Test case 2 failed\"\n",
    "    assert find_largest_element([3.5, 2.7, 4.6, 3.9]) == 4.6, \"Test case 3 failed\"\n",
    "    assert find_largest_element([0, 0, 0, 0]) == 0, \"Test case 4 failed\"\n",
    "    assert find_largest_element([100]) == 100, \"Test case 5 failed\"\n",
    "    assert find_largest_element([-100, -99, -98, -97]) == -97, \"Test case 6 failed\"\n",
    "    assert find_largest_element([1, 2, 3, 4, 5, 0]) == 5, \"Test case 7 failed\"\n",
    "    assert find_largest_element([-1, -2, -3, -4, -5, -6]) == -1, \"Test case 8 failed\"\n",
    "    assert find_largest_element([2.5, 1.1, 2.4, 3.8, 3.7]) == 3.8, \"Test case 9 failed\"\n",
    "    assert find_largest_element([-1, 0, 1, 0, -1]) == 1, \"Test case 10 failed\"\n",
    "\n",
    "    print(\"All test cases passed!\")\n"
   ]
  },
  {
   "cell_type": "markdown",
   "metadata": {},
   "source": [
    "## 3. Write a function that sums all the elements on a list"
   ]
  },
  {
   "cell_type": "code",
   "execution_count": 21,
   "metadata": {},
   "outputs": [
    {
     "name": "stdout",
     "output_type": "stream",
     "text": [
      "15\n"
     ]
    }
   ],
   "source": [
    "def sum_all(lst):\n",
    "#your code here\n",
    "\n",
    "    total = 0\n",
    "    for num in lst:\n",
    "        total += num\n",
    "    return total\n",
    "\n",
    "print(sum_all([1, 2, 3, 4, 5]))"
   ]
  },
  {
   "cell_type": "code",
   "execution_count": 25,
   "metadata": {
    "scrolled": true
   },
   "outputs": [
    {
     "name": "stdout",
     "output_type": "stream",
     "text": [
      "15\n"
     ]
    },
    {
     "ename": "NameError",
     "evalue": "name 'test_sum' is not defined",
     "output_type": "error",
     "traceback": [
      "\u001b[0;31m---------------------------------------------------------------------------\u001b[0m",
      "\u001b[0;31mNameError\u001b[0m                                 Traceback (most recent call last)",
      "Cell \u001b[0;32mIn[25], line 12\u001b[0m\n\u001b[1;32m      9\u001b[0m \u001b[38;5;28mprint\u001b[39m(sum_all([\u001b[38;5;241m1\u001b[39m, \u001b[38;5;241m2\u001b[39m, \u001b[38;5;241m3\u001b[39m, \u001b[38;5;241m4\u001b[39m, \u001b[38;5;241m5\u001b[39m]))\n\u001b[1;32m     11\u001b[0m \u001b[38;5;66;03m# This will test your function \u001b[39;00m\n\u001b[0;32m---> 12\u001b[0m test_sum(sum_all)\n\u001b[1;32m     13\u001b[0m \u001b[38;5;28;01massert\u001b[39;00m sum_all([\u001b[38;5;241m1\u001b[39m, \u001b[38;5;241m2\u001b[39m, \u001b[38;5;241m3\u001b[39m, \u001b[38;5;241m4\u001b[39m, \u001b[38;5;241m5\u001b[39m]) \u001b[38;5;241m==\u001b[39m \u001b[38;5;241m15\u001b[39m, \u001b[38;5;124m\"\u001b[39m\u001b[38;5;124mTest case 1 failed\u001b[39m\u001b[38;5;124m\"\u001b[39m\n",
      "\u001b[0;31mNameError\u001b[0m: name 'test_sum' is not defined"
     ]
    }
   ],
   "source": [
    "def sum_all(lst):\n",
    "#your code here\n",
    "\n",
    "    total = 0\n",
    "    for num in lst:\n",
    "        total += num\n",
    "    return total\n",
    "\n",
    "print(sum_all([1, 2, 3, 4, 5]))\n",
    "\n",
    "# This will test your function \n",
    "test_sum(sum_all)"
   ]
  },
  {
   "cell_type": "markdown",
   "metadata": {},
   "source": [
    "## 4. Write another function that multiplies all the elements on a list"
   ]
  },
  {
   "cell_type": "code",
   "execution_count": 32,
   "metadata": {},
   "outputs": [
    {
     "data": {
      "text/plain": [
       "[8, 48, 144]"
      ]
     },
     "execution_count": 32,
     "metadata": {},
     "output_type": "execute_result"
    }
   ],
   "source": [
    "def mult_all(lst):\n",
    "#your code here\n",
    "\n",
    "    if not lst:\n",
    "        return []\n",
    "\n",
    "    product_list=[]\n",
    "    product = 2\n",
    "    for num in lst:\n",
    "        product *= num\n",
    "        product_list.append(product)\n",
    "    return product_list\n",
    "\n",
    "mult_all([4,6,3])"
   ]
  },
  {
   "cell_type": "code",
   "execution_count": 41,
   "metadata": {},
   "outputs": [
    {
     "data": {
      "text/plain": [
       "[4, 8, 14]"
      ]
     },
     "execution_count": 41,
     "metadata": {},
     "output_type": "execute_result"
    }
   ],
   "source": [
    "def mult_all(lst):\n",
    "#your code here\n",
    "\n",
    "    result = []\n",
    "    for element in lst:\n",
    "        result.append(element*2)\n",
    "    return result\n",
    "\n",
    "mult_all([2,4,7])\n"
   ]
  },
  {
   "cell_type": "code",
   "execution_count": 42,
   "metadata": {},
   "outputs": [
    {
     "name": "stdout",
     "output_type": "stream",
     "text": [
      "All test cases passed!\n"
     ]
    }
   ],
   "source": [
    "# This will test your function\n",
    "def test_mult_all():\n",
    "    \n",
    "    \"\"\"\n",
    "    Test cases for the mult_all function.\n",
    "    \"\"\"\n",
    "    # Test case 1: Positive numbers\n",
    "    input_list = [1, 2, 3]\n",
    "    expected_output = [2, 4, 6]\n",
    "    assert mult_all(input_list) == expected_output, \"Test case 1 failed\"\n",
    "\n",
    "    # Test case 2: Negative numbers\n",
    "    input_list = [-1, -2, -3]\n",
    "    expected_output = [-2, -4, -6]\n",
    "    assert mult_all(input_list) == expected_output, \"Test case 2 failed\"\n",
    "\n",
    "    # Test case 3: Mixed numbers\n",
    "    input_list = [0, 1, -2, 3, -4]\n",
    "    expected_output = [0, 2, -4, 6, -8]\n",
    "    assert mult_all(input_list) == expected_output, \"Test case 3 failed\"\n",
    "\n",
    "    # Test case 4: Empty list\n",
    "    input_list = []\n",
    "    expected_output = []\n",
    "    assert mult_all(input_list) == expected_output, \"Test case 4 failed\"\n",
    "\n",
    "    # Test case 5: Factor is zero\n",
    "    input_list = [1, 2, 3]\n",
    "    expected_output = [2, 4, 6]  # Since the factor is zero, the output should be the same as the input list\n",
    "    assert mult_all(input_list) == expected_output, \"Test case 5 failed\"\n",
    "\n",
    "    print(\"All test cases passed!\")\n",
    "\n",
    "# Run the test function\n",
    "test_mult_all()\n"
   ]
  },
  {
   "cell_type": "code",
   "execution_count": null,
   "metadata": {},
   "outputs": [],
   "source": []
  },
  {
   "cell_type": "code",
   "execution_count": 27,
   "metadata": {},
   "outputs": [
    {
     "name": "stdout",
     "output_type": "stream",
     "text": [
      "[1, 2, 6, 24, 120]\n",
      "[10, 20, -60, -240]\n",
      "[0, 0, 0, 0]\n",
      "[5]\n",
      "[]\n"
     ]
    }
   ],
   "source": [
    "#variant om een lijst van resultaat te maken\n",
    "\n",
    "def cumulative_product(lst):\n",
    "    \"\"\"\n",
    "    This function takes a list of numbers as input and returns a list where each element is the product\n",
    "    of all previous elements in the input list, including itself.\n",
    "\n",
    "    Parameters:\n",
    "    lst (list of float): The list of numbers.\n",
    "\n",
    "    Returns:\n",
    "    list of float: A list of cumulative products.\n",
    "    \"\"\"\n",
    "    if not lst:\n",
    "        return []\n",
    "\n",
    "    cumulative_products = []\n",
    "    product = 1\n",
    "    for num in lst:\n",
    "        product *= num\n",
    "        cumulative_products.append(product)\n",
    "\n",
    "    return cumulative_products\n",
    "\n",
    "# Example usage:\n",
    "print(cumulative_product([1, 2, 3, 4, 5]))  # Output: [1, 2, 6, 24, 120]\n",
    "print(cumulative_product([10, 2, -3, 4]))  # Output: [10, 20, -60, -240]\n",
    "print(cumulative_product([0, 1, 2, 3]))  # Output: [0, 0, 0, 0]\n",
    "print(cumulative_product([5]))  # Output: [5]\n",
    "print(cumulative_product([]))  # Output: []\n"
   ]
  },
  {
   "cell_type": "code",
   "execution_count": 28,
   "metadata": {},
   "outputs": [
    {
     "name": "stdout",
     "output_type": "stream",
     "text": [
      "All test cases passed!\n"
     ]
    }
   ],
   "source": [
    "def test_cumulative_product():\n",
    "    \"\"\"\n",
    "    Test cases for the cumulative_product function.\n",
    "    \"\"\"\n",
    "    assert cumulative_product([1, 2, 3, 4, 5]) == [1, 2, 6, 24, 120], \"Test case 1 failed\"\n",
    "    assert cumulative_product([10, 2, -3, 4]) == [10, 20, -60, -240], \"Test case 2 failed\"\n",
    "    assert cumulative_product([0, 1, 2, 3]) == [0, 0, 0, 0], \"Test case 3 failed\"\n",
    "    assert cumulative_product([5]) == [5], \"Test case 4 failed\"\n",
    "    assert cumulative_product([]) == [], \"Test case 5 failed\"\n",
    "    assert cumulative_product([-1, -2, -3, -4, -5]) == [-1, 2, -6, 24, -120], \"Test case 6 failed\"\n",
    "    assert cumulative_product([1.5, 2.0, -0.5]) == [1.5, 3.0, -1.5], \"Test case 7 failed\"\n",
    "\n",
    "    print(\"All test cases passed!\")\n",
    "\n",
    "# Run the test function\n",
    "test_cumulative_product()\n"
   ]
  },
  {
   "cell_type": "code",
   "execution_count": null,
   "metadata": {
    "scrolled": true
   },
   "outputs": [],
   "source": [
    "# This will test your function \n",
    "test_mult(mult_all)"
   ]
  },
  {
   "cell_type": "markdown",
   "metadata": {},
   "source": [
    "## 5. Now combine those two ideas and write a function that receives a list and either \"+\" or \"*\" and outputs acordingly"
   ]
  },
  {
   "cell_type": "code",
   "execution_count": null,
   "metadata": {},
   "outputs": [],
   "source": [
    "def oper_all(arr, oper = \"*\"):\n",
    "#your code here"
   ]
  },
  {
   "cell_type": "code",
   "execution_count": null,
   "metadata": {},
   "outputs": [],
   "source": [
    "# This will test your function \n",
    "test_operations(oper_all)"
   ]
  },
  {
   "cell_type": "markdown",
   "metadata": {},
   "source": [
    "## 6. Write a function that returns the factorial of a number."
   ]
  },
  {
   "cell_type": "code",
   "execution_count": 43,
   "metadata": {},
   "outputs": [
    {
     "data": {
      "text/plain": [
       "24"
      ]
     },
     "execution_count": 43,
     "metadata": {},
     "output_type": "execute_result"
    }
   ],
   "source": [
    "def factorial(n):\n",
    "#your code here\n",
    "\n",
    "    if n < 0:\n",
    "        raise ValueError(\"Factorial is not defined for negative numbers\")\n",
    "    if n == 0:\n",
    "        return 1\n",
    "    result = 1\n",
    "    for i in range(1, n + 1):\n",
    "        result *= i\n",
    "    return result\n",
    "\n",
    "factorial(4)\n"
   ]
  },
  {
   "cell_type": "code",
   "execution_count": null,
   "metadata": {},
   "outputs": [],
   "source": [
    "#factorial formula\n",
    "#n! = n * ( n - 1 ) *...*1\n",
    "\n",
    "# This code defines a function called \"factorial\" which takes an input \"n\". The function uses a for loop to iterate through the range of numbers \n",
    "# from 1 to n+1. For each number in that range, it multiplies the current value of x by the number in the range. At the end of the loop, \n",
    "# the function returns the final value of x, which will be the factorial of the input number \"n\".\n",
    "\n",
    "# The Factorial of a positive integer n is the product of all positive integers less than or equal to n. \n",
    "# For example, the factorial of 6 (written \"6!\") is 6 * 5 * 4 * 3 * 2 * 1 = 720.\n",
    "\n",
    "# So this function takes an input of any positive integer, and returns the factorial of that number."
   ]
  },
  {
   "cell_type": "code",
   "execution_count": 44,
   "metadata": {},
   "outputs": [
    {
     "name": "stdout",
     "output_type": "stream",
     "text": [
      "All test cases passed!\n"
     ]
    }
   ],
   "source": [
    "# This will test your function \n",
    "\n",
    "def test_factorial():\n",
    "    \"\"\"\n",
    "    Test cases for the factorial function.\n",
    "    \"\"\"\n",
    "    # Test case 1: Factorial of 0\n",
    "    assert factorial(0) == 1, \"Test case 1 failed\"\n",
    "\n",
    "    # Test case 2: Factorial of 1\n",
    "    assert factorial(1) == 1, \"Test case 2 failed\"\n",
    "\n",
    "    # Test case 3: Factorial of 5\n",
    "    assert factorial(5) == 120, \"Test case 3 failed\"\n",
    "\n",
    "    # Test case 5: Factorial of a negative number (should raise ValueError)\n",
    "    try:\n",
    "        factorial(-1)\n",
    "        assert False, \"Test case 5 failed (ValueError not raised)\"\n",
    "    except ValueError:\n",
    "        pass  # Expected outcome\n",
    "\n",
    "    print(\"All test cases passed!\")\n",
    "\n",
    "# Run the test function\n",
    "test_factorial()\n"
   ]
  },
  {
   "cell_type": "markdown",
   "metadata": {},
   "source": [
    "## 7. Write a function that takes a list and returns a list of the unique values.\n",
    "\n",
    "`NOTE: You cannot use set. 🤔`"
   ]
  },
  {
   "cell_type": "code",
   "execution_count": 45,
   "metadata": {},
   "outputs": [
    {
     "data": {
      "text/plain": [
       "[6, 4, 7, 3, 5]"
      ]
     },
     "execution_count": 45,
     "metadata": {},
     "output_type": "execute_result"
    }
   ],
   "source": [
    "def unique(lst_un):\n",
    "#your code here\n",
    "\n",
    "    unique_lst_un = []\n",
    "    for item in lst_un:\n",
    "        if item not in unique_lst_un:\n",
    "            unique_lst_un.append(item)\n",
    "    return unique_lst_un\n",
    "\n",
    "unique([6,4,7,4,3,6,4,5,4])\n"
   ]
  },
  {
   "cell_type": "code",
   "execution_count": null,
   "metadata": {},
   "outputs": [],
   "source": [
    "# This will test your function \n",
    "test_unique(unique)"
   ]
  },
  {
   "cell_type": "markdown",
   "metadata": {},
   "source": [
    "## 8. Write a function that returns the mode of a list, i.e.: the element that appears the most times.\n",
    "`NOTE: You should not use count... 🧐`"
   ]
  },
  {
   "cell_type": "code",
   "execution_count": 52,
   "metadata": {},
   "outputs": [
    {
     "data": {
      "text/plain": [
       "'b'"
      ]
     },
     "execution_count": 52,
     "metadata": {},
     "output_type": "execute_result"
    }
   ],
   "source": [
    "def mode_counter(arr):\n",
    "#your code here\n",
    "\n",
    "    frequency_dict = {}\n",
    "    for item in arr:\n",
    "        if item in frequency_dict:\n",
    "            frequency_dict[item] +=1\n",
    "        else: frequency_dict[item] = 1\n",
    "\n",
    "#return frequency_dict  {'a': 1, 'b': 2, 'c': 1}\n",
    "    \n",
    "    most_frequent = []\n",
    "    max_count = 0\n",
    "    for item, count in frequency_dict.items():\n",
    "        if count > max_count:\n",
    "            max_count = count\n",
    "            most_frequent = item\n",
    "    return most_frequent\n",
    "\n",
    "\n",
    "mode_counter([\"a\", \"b\", \"b\", \"c\"])"
   ]
  },
  {
   "cell_type": "code",
   "execution_count": 59,
   "metadata": {},
   "outputs": [
    {
     "ename": "AssertionError",
     "evalue": "OK",
     "output_type": "error",
     "traceback": [
      "\u001b[0;31m---------------------------------------------------------------------------\u001b[0m",
      "\u001b[0;31mAssertionError\u001b[0m                            Traceback (most recent call last)",
      "Cell \u001b[0;32mIn[59], line 7\u001b[0m\n\u001b[1;32m      4\u001b[0m     \u001b[38;5;28;01massert\u001b[39;00m mode_counter([\u001b[38;5;124m\"\u001b[39m\u001b[38;5;124ma\u001b[39m\u001b[38;5;124m\"\u001b[39m, \u001b[38;5;124m\"\u001b[39m\u001b[38;5;124mb\u001b[39m\u001b[38;5;124m\"\u001b[39m, \u001b[38;5;124m\"\u001b[39m\u001b[38;5;124mb\u001b[39m\u001b[38;5;124m\"\u001b[39m, \u001b[38;5;124m\"\u001b[39m\u001b[38;5;124mc\u001b[39m\u001b[38;5;124m\"\u001b[39m, \u001b[38;5;124m\"\u001b[39m\u001b[38;5;124ma\u001b[39m\u001b[38;5;124m\"\u001b[39m, \u001b[38;5;124m\"\u001b[39m\u001b[38;5;124md\u001b[39m\u001b[38;5;124m\"\u001b[39m]) \u001b[38;5;241m==\u001b[39m \u001b[38;5;124m'\u001b[39m\u001b[38;5;124mb\u001b[39m\u001b[38;5;124m'\u001b[39m, \u001b[38;5;124m\"\u001b[39m\u001b[38;5;124mOK\u001b[39m\u001b[38;5;124m\"\u001b[39m\n\u001b[1;32m      5\u001b[0m     \u001b[38;5;28mprint\u001b[39m(\u001b[38;5;124m\"\u001b[39m\u001b[38;5;124mpassed\u001b[39m\u001b[38;5;124m\"\u001b[39m)\n\u001b[0;32m----> 7\u001b[0m test_mode()\n",
      "Cell \u001b[0;32mIn[59], line 4\u001b[0m, in \u001b[0;36mtest_mode\u001b[0;34m()\u001b[0m\n\u001b[1;32m      2\u001b[0m \u001b[38;5;28;01mdef\u001b[39;00m \u001b[38;5;21mtest_mode\u001b[39m():\n\u001b[0;32m----> 4\u001b[0m     \u001b[38;5;28;01massert\u001b[39;00m mode_counter([\u001b[38;5;124m\"\u001b[39m\u001b[38;5;124ma\u001b[39m\u001b[38;5;124m\"\u001b[39m, \u001b[38;5;124m\"\u001b[39m\u001b[38;5;124mb\u001b[39m\u001b[38;5;124m\"\u001b[39m, \u001b[38;5;124m\"\u001b[39m\u001b[38;5;124mb\u001b[39m\u001b[38;5;124m\"\u001b[39m, \u001b[38;5;124m\"\u001b[39m\u001b[38;5;124mc\u001b[39m\u001b[38;5;124m\"\u001b[39m, \u001b[38;5;124m\"\u001b[39m\u001b[38;5;124ma\u001b[39m\u001b[38;5;124m\"\u001b[39m, \u001b[38;5;124m\"\u001b[39m\u001b[38;5;124md\u001b[39m\u001b[38;5;124m\"\u001b[39m]) \u001b[38;5;241m==\u001b[39m \u001b[38;5;124m'\u001b[39m\u001b[38;5;124mb\u001b[39m\u001b[38;5;124m'\u001b[39m, \u001b[38;5;124m\"\u001b[39m\u001b[38;5;124mOK\u001b[39m\u001b[38;5;124m\"\u001b[39m\n\u001b[1;32m      5\u001b[0m     \u001b[38;5;28mprint\u001b[39m(\u001b[38;5;124m\"\u001b[39m\u001b[38;5;124mpassed\u001b[39m\u001b[38;5;124m\"\u001b[39m)\n",
      "\u001b[0;31mAssertionError\u001b[0m: OK"
     ]
    }
   ],
   "source": [
    "# This will test your function \n",
    "def test_mode():\n",
    "    \n",
    "    assert mode_counter([\"a\", \"b\", \"b\", \"c\", \"a\", \"d\"]) == 'b', \"OK\"\n",
    "    print(\"passed\")\n",
    "    \n",
    "test_mode()"
   ]
  },
  {
   "cell_type": "markdown",
   "metadata": {},
   "source": [
    "## 9. Write a function that calculates the standard deviation of a list.\n",
    "`NOTE: Do not use any libraries or already built functions. 😉`"
   ]
  },
  {
   "cell_type": "code",
   "execution_count": 60,
   "metadata": {},
   "outputs": [
    {
     "name": "stdout",
     "output_type": "stream",
     "text": [
      "2.0\n"
     ]
    }
   ],
   "source": [
    "def st_dev(list_sd):\n",
    "#your code here\n",
    "    \n",
    "    if len(list_sd) == 0:\n",
    "        raise ValueError(\"The list is empty\")\n",
    "\n",
    "    # Calculate the mean of the list\n",
    "    mean = sum(list_sd) / len(list_sd)\n",
    "\n",
    "    # Calculate the squared differences from the mean\n",
    "    squared_diffs = [(x - mean) ** 2 for x in list_sd]\n",
    "\n",
    "    # Calculate the variance (average of squared differences)\n",
    "    variance = sum(squared_diffs) / len(list_sd)\n",
    "\n",
    "    # Calculate the standard deviation (square root of variance)\n",
    "    standard_deviation = variance ** 0.5\n",
    "\n",
    "    return standard_deviation\n",
    "\n",
    "# Example usage:\n",
    "input_list = [2, 4, 4, 4, 5, 5, 7, 9]\n",
    "result = st_dev(input_list)\n",
    "print(result)  # Output: 2.0\n"
   ]
  },
  {
   "cell_type": "code",
   "execution_count": null,
   "metadata": {},
   "outputs": [],
   "source": [
    "# This will test your function \n",
    "test_stdev(st_dev)"
   ]
  },
  {
   "cell_type": "markdown",
   "metadata": {},
   "source": [
    "## 10. Write a function to check if a string is a pangram, i.e.: if it contains all the letters of the alphabet at least once. Mind that the strings may contain characters that are not letters."
   ]
  },
  {
   "cell_type": "code",
   "execution_count": null,
   "metadata": {},
   "outputs": [],
   "source": [
    "def pangram(string):\n",
    "    \n",
    "\n",
    "    string = string.lower()   \n",
    "    # Create a set of unique letters in the string\n",
    "    unique_letters = set(string)\n",
    "    \n",
    "    # Check if the set of unique letters contains all alphabets\n",
    "    return all(letter.isalpha() for letter in 'abcdefghijklmnopqrstuvwxyz' if letter in unique_letters)\n",
    "\n",
    "# Example usage:\n",
    "input_string = \"love this course\"\n",
    "print(pangram(input_string))  # Output: True\n"
   ]
  },
  {
   "cell_type": "code",
   "execution_count": null,
   "metadata": {},
   "outputs": [],
   "source": [
    "# This will test your function \n",
    "test_pangram(pangram)"
   ]
  },
  {
   "cell_type": "markdown",
   "metadata": {},
   "source": [
    "## 11. Write a function that receives a string of comma separated words and returns a string of comma separated words sorted alphabetically.\n",
    "\n",
    "`NOTE: You may use sorted but not split and definitely no join! 🤪`"
   ]
  },
  {
   "cell_type": "code",
   "execution_count": 61,
   "metadata": {},
   "outputs": [
    {
     "name": "stdout",
     "output_type": "stream",
     "text": [
      "True\n"
     ]
    }
   ],
   "source": []
  },
  {
   "cell_type": "code",
   "execution_count": null,
   "metadata": {},
   "outputs": [],
   "source": [
    "# This will test your function \n",
    "test_alpha(sort_alpha)"
   ]
  },
  {
   "cell_type": "markdown",
   "metadata": {},
   "source": [
    "## 12. Write a function to check if a given password is strong (at least 8 characters, at least one lower case, at least one upper case, at least one number and at least one special character). It should output True if strong and False if not."
   ]
  },
  {
   "cell_type": "code",
   "execution_count": null,
   "metadata": {},
   "outputs": [],
   "source": [
    "def check_pass(password):\n",
    "#your code here"
   ]
  },
  {
   "cell_type": "code",
   "execution_count": null,
   "metadata": {},
   "outputs": [],
   "source": [
    "# This will test your function \n",
    "test_pass(check_pass)"
   ]
  }
 ],
 "metadata": {
  "kernelspec": {
   "display_name": "Python 3 (ipykernel)",
   "language": "python",
   "name": "python3"
  },
  "language_info": {
   "codemirror_mode": {
    "name": "ipython",
    "version": 3
   },
   "file_extension": ".py",
   "mimetype": "text/x-python",
   "name": "python",
   "nbconvert_exporter": "python",
   "pygments_lexer": "ipython3",
   "version": "3.11.7"
  },
  "vscode": {
   "interpreter": {
    "hash": "aee8b7b246df8f9039afb4144a1f6fd8d2ca17a180786b69acc140d282b71a49"
   }
  }
 },
 "nbformat": 4,
 "nbformat_minor": 4
}
